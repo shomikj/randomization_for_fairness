{
 "cells": [
  {
   "cell_type": "code",
   "execution_count": 1,
   "id": "25b233c1-d39b-49be-b959-d65594fc3637",
   "metadata": {},
   "outputs": [],
   "source": [
    "from risk_scores import RiskScores\n",
    "import pandas as pd"
   ]
  },
  {
   "cell_type": "code",
   "execution_count": 2,
   "id": "3cbf3c00-41b7-4232-84cd-04bcd02a6e2e",
   "metadata": {},
   "outputs": [],
   "source": [
    "df = pd.read_csv(\"../../data/census_data/income_CA_2018.csv\")\n",
    "df[\"income\"] = (df[\"income\"]>=50000).astype(int)"
   ]
  },
  {
   "cell_type": "code",
   "execution_count": 3,
   "id": "7f72c0de-ed9f-457e-913b-1b1dddc31d6c",
   "metadata": {},
   "outputs": [],
   "source": [
    "label = \"income\"\n",
    "attributes = [\"sex\", \"race\"]\n",
    "features = [f for f in df.columns if f not in [\"sex\", \"race\", \"income\"]]\n",
    "random_seed = 0\n",
    "method = \"log\""
   ]
  },
  {
   "cell_type": "code",
   "execution_count": 4,
   "id": "16964b5a-4297-4d71-8dc6-48d79342ffa9",
   "metadata": {},
   "outputs": [],
   "source": [
    "rs = RiskScores(df, features, label, attributes, random_seed, method)"
   ]
  },
  {
   "cell_type": "code",
   "execution_count": 5,
   "id": "76a79e5b-5c40-43cb-9b82-295b3957e70e",
   "metadata": {},
   "outputs": [
    {
     "name": "stderr",
     "output_type": "stream",
     "text": [
      "100%|███████████████████████████████████████████| 11/11 [00:15<00:00,  1.45s/it]\n",
      "100%|█████████████████████████████████████████████| 5/5 [00:05<00:00,  1.09s/it]\n"
     ]
    }
   ],
   "source": [
    "results = rs.get_risk_scores()"
   ]
  },
  {
   "cell_type": "code",
   "execution_count": 6,
   "id": "f815b817-cbbd-4012-baa8-70c11301b98f",
   "metadata": {},
   "outputs": [
    {
     "data": {
      "text/html": [
       "<div>\n",
       "<style scoped>\n",
       "    .dataframe tbody tr th:only-of-type {\n",
       "        vertical-align: middle;\n",
       "    }\n",
       "\n",
       "    .dataframe tbody tr th {\n",
       "        vertical-align: top;\n",
       "    }\n",
       "\n",
       "    .dataframe thead th {\n",
       "        text-align: right;\n",
       "    }\n",
       "</style>\n",
       "<table border=\"1\" class=\"dataframe\">\n",
       "  <thead>\n",
       "    <tr style=\"text-align: right;\">\n",
       "      <th></th>\n",
       "      <th>y</th>\n",
       "      <th>sex</th>\n",
       "      <th>race</th>\n",
       "      <th>risk</th>\n",
       "      <th>risk_b0</th>\n",
       "      <th>risk_b1</th>\n",
       "      <th>risk_b2</th>\n",
       "      <th>risk_b3</th>\n",
       "      <th>risk_b4</th>\n",
       "      <th>risk_b5</th>\n",
       "      <th>risk_b6</th>\n",
       "      <th>risk_b7</th>\n",
       "      <th>risk_b8</th>\n",
       "      <th>risk_b9</th>\n",
       "      <th>risk_b10</th>\n",
       "      <th>outlier_pval</th>\n",
       "    </tr>\n",
       "  </thead>\n",
       "  <tbody>\n",
       "    <tr>\n",
       "      <th>0</th>\n",
       "      <td>1</td>\n",
       "      <td>1</td>\n",
       "      <td>1</td>\n",
       "      <td>0.562304</td>\n",
       "      <td>0.566762</td>\n",
       "      <td>0.572909</td>\n",
       "      <td>0.563676</td>\n",
       "      <td>0.561607</td>\n",
       "      <td>0.552454</td>\n",
       "      <td>0.549283</td>\n",
       "      <td>0.537727</td>\n",
       "      <td>0.540132</td>\n",
       "      <td>0.571389</td>\n",
       "      <td>0.546822</td>\n",
       "      <td>0.569981</td>\n",
       "      <td>0.117437</td>\n",
       "    </tr>\n",
       "    <tr>\n",
       "      <th>1</th>\n",
       "      <td>1</td>\n",
       "      <td>1</td>\n",
       "      <td>1</td>\n",
       "      <td>0.771974</td>\n",
       "      <td>0.773620</td>\n",
       "      <td>0.772659</td>\n",
       "      <td>0.769348</td>\n",
       "      <td>0.776049</td>\n",
       "      <td>0.772958</td>\n",
       "      <td>0.777199</td>\n",
       "      <td>0.772418</td>\n",
       "      <td>0.772222</td>\n",
       "      <td>0.769805</td>\n",
       "      <td>0.769270</td>\n",
       "      <td>0.774785</td>\n",
       "      <td>0.993319</td>\n",
       "    </tr>\n",
       "    <tr>\n",
       "      <th>2</th>\n",
       "      <td>0</td>\n",
       "      <td>0</td>\n",
       "      <td>0</td>\n",
       "      <td>0.373902</td>\n",
       "      <td>0.372424</td>\n",
       "      <td>0.373328</td>\n",
       "      <td>0.361549</td>\n",
       "      <td>0.367434</td>\n",
       "      <td>0.372396</td>\n",
       "      <td>0.372658</td>\n",
       "      <td>0.366162</td>\n",
       "      <td>0.380775</td>\n",
       "      <td>0.374620</td>\n",
       "      <td>0.383742</td>\n",
       "      <td>0.375868</td>\n",
       "      <td>0.594682</td>\n",
       "    </tr>\n",
       "    <tr>\n",
       "      <th>3</th>\n",
       "      <td>1</td>\n",
       "      <td>0</td>\n",
       "      <td>1</td>\n",
       "      <td>0.369213</td>\n",
       "      <td>0.374637</td>\n",
       "      <td>0.378831</td>\n",
       "      <td>0.385212</td>\n",
       "      <td>0.366399</td>\n",
       "      <td>0.364606</td>\n",
       "      <td>0.363721</td>\n",
       "      <td>0.357936</td>\n",
       "      <td>0.346858</td>\n",
       "      <td>0.373188</td>\n",
       "      <td>0.359883</td>\n",
       "      <td>0.371155</td>\n",
       "      <td>0.145284</td>\n",
       "    </tr>\n",
       "    <tr>\n",
       "      <th>4</th>\n",
       "      <td>0</td>\n",
       "      <td>1</td>\n",
       "      <td>1</td>\n",
       "      <td>0.976284</td>\n",
       "      <td>0.977938</td>\n",
       "      <td>0.977249</td>\n",
       "      <td>0.979476</td>\n",
       "      <td>0.978169</td>\n",
       "      <td>0.975613</td>\n",
       "      <td>0.977308</td>\n",
       "      <td>0.974995</td>\n",
       "      <td>0.978513</td>\n",
       "      <td>0.978080</td>\n",
       "      <td>0.976609</td>\n",
       "      <td>0.974879</td>\n",
       "      <td>0.031881</td>\n",
       "    </tr>\n",
       "  </tbody>\n",
       "</table>\n",
       "</div>"
      ],
      "text/plain": [
       "   y  sex  race      risk   risk_b0   risk_b1   risk_b2   risk_b3   risk_b4  \\\n",
       "0  1    1     1  0.562304  0.566762  0.572909  0.563676  0.561607  0.552454   \n",
       "1  1    1     1  0.771974  0.773620  0.772659  0.769348  0.776049  0.772958   \n",
       "2  0    0     0  0.373902  0.372424  0.373328  0.361549  0.367434  0.372396   \n",
       "3  1    0     1  0.369213  0.374637  0.378831  0.385212  0.366399  0.364606   \n",
       "4  0    1     1  0.976284  0.977938  0.977249  0.979476  0.978169  0.975613   \n",
       "\n",
       "    risk_b5   risk_b6   risk_b7   risk_b8   risk_b9  risk_b10  outlier_pval  \n",
       "0  0.549283  0.537727  0.540132  0.571389  0.546822  0.569981      0.117437  \n",
       "1  0.777199  0.772418  0.772222  0.769805  0.769270  0.774785      0.993319  \n",
       "2  0.372658  0.366162  0.380775  0.374620  0.383742  0.375868      0.594682  \n",
       "3  0.363721  0.357936  0.346858  0.373188  0.359883  0.371155      0.145284  \n",
       "4  0.977308  0.974995  0.978513  0.978080  0.976609  0.974879      0.031881  "
      ]
     },
     "execution_count": 6,
     "metadata": {},
     "output_type": "execute_result"
    }
   ],
   "source": [
    "results.head()"
   ]
  },
  {
   "cell_type": "code",
   "execution_count": 7,
   "id": "17807936-840f-47af-b5da-b9c2276f63ce",
   "metadata": {},
   "outputs": [],
   "source": [
    "results.to_csv(\"../../data/census_results/\"+label+\"_\"+method+str(random_seed), index=False)"
   ]
  },
  {
   "cell_type": "code",
   "execution_count": null,
   "id": "4d4bab83-1861-4e24-98a9-3bb09665a84c",
   "metadata": {},
   "outputs": [],
   "source": []
  }
 ],
 "metadata": {
  "kernelspec": {
   "display_name": "Python 3 (ipykernel)",
   "language": "python",
   "name": "python3"
  },
  "language_info": {
   "codemirror_mode": {
    "name": "ipython",
    "version": 3
   },
   "file_extension": ".py",
   "mimetype": "text/x-python",
   "name": "python",
   "nbconvert_exporter": "python",
   "pygments_lexer": "ipython3",
   "version": "3.12.2"
  }
 },
 "nbformat": 4,
 "nbformat_minor": 5
}
