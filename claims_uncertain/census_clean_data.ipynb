{
 "cells": [
  {
   "cell_type": "code",
   "execution_count": 12,
   "id": "0c488d7e",
   "metadata": {},
   "outputs": [],
   "source": [
    "import pandas as pd\n",
    "import numpy as np\n",
    "import folktables"
   ]
  },
  {
   "cell_type": "code",
   "execution_count": 13,
   "id": "9443a179",
   "metadata": {},
   "outputs": [
    {
     "name": "stdout",
     "output_type": "stream",
     "text": [
      "Downloading data for 2018 1-Year person survey for NY...\n"
     ]
    }
   ],
   "source": [
    "year = '2018'\n",
    "state = 'NY'\n",
    "pred = \"income\"\n",
    "\n",
    "output = \"../../data/ACS/income_\"+state+\"_\"+year+\".csv\"\n",
    "root_dir = 'data'\n",
    "data_source = folktables.ACSDataSource(survey_year=year, horizon='1-Year', survey='person', root_dir = root_dir)\n",
    "acs_data = data_source.get_data(states=[state], download=True)"
   ]
  },
  {
   "cell_type": "code",
   "execution_count": 14,
   "id": "7a252f47",
   "metadata": {},
   "outputs": [],
   "source": [
    "ACSIncome = folktables.BasicProblem(\n",
    "    features=[\n",
    "        'AGEP',\n",
    "        'COW',\n",
    "        'SCHL',\n",
    "        'MAR',\n",
    "        'OCCP',\n",
    "        'WAOB',\n",
    "        'WKHP',\n",
    "        'SEX',\n",
    "        'RAC1P',\n",
    "    ],\n",
    "    target='PINCP',\n",
    "    group='RAC1P',\n",
    ")"
   ]
  },
  {
   "cell_type": "code",
   "execution_count": 15,
   "id": "64ffed11",
   "metadata": {},
   "outputs": [
    {
     "data": {
      "text/plain": [
       "103756"
      ]
     },
     "execution_count": 15,
     "metadata": {},
     "output_type": "execute_result"
    }
   ],
   "source": [
    "df, df_labels, _ = ACSIncome.df_to_pandas(acs_data)\n",
    "df[\"income\"] = (df_labels[\"PINCP\"])\n",
    "df = df.dropna()\n",
    "len(df)"
   ]
  },
  {
   "cell_type": "code",
   "execution_count": 16,
   "id": "926f34cf",
   "metadata": {},
   "outputs": [],
   "source": [
    "# AGEP: Age\n",
    "# COW: Class of Worker\n",
    "# SCHL: School\n",
    "# MAR: Marital Status\n",
    "# OCCP: Occupation Code\n",
    "# WAOB: World Area of Birth\n",
    "# WKHP: Hours Worked Per Week\n",
    "\n",
    "# https://www2.census.gov/programs-surveys/acs/tech_docs/pums/data_dict/PUMS_Data_Dictionary_2018.pdf"
   ]
  },
  {
   "cell_type": "code",
   "execution_count": 17,
   "id": "5898d8a7",
   "metadata": {},
   "outputs": [],
   "source": [
    "df.loc[df[\"SCHL\"].isin([2,3,4,5,6,7,8, 9, 10, 11]), \"SCHL\"] = 2 # group < high school\n",
    "df.loc[df[\"SCHL\"].isin([12, 13, 14, 15]), \"SCHL\"] = 12 # group some high school, no diploma\n",
    "\n",
    "df = pd.get_dummies(df, columns=[\"COW\", \"SCHL\", \"MAR\", \"WAOB\"])"
   ]
  },
  {
   "cell_type": "code",
   "execution_count": 18,
   "id": "e123e903",
   "metadata": {},
   "outputs": [],
   "source": [
    "OCCP = {\n",
    "    \"OCCP_1\": [0,1000], # Management, Business, and Financial\n",
    "    \"OCCP_2\": [1000, 2000], # Computer, Engineering, and Science\n",
    "    \"OCCP_3\": [2000, 3000], # Education, Legal, Community Service, Arts, and Media\n",
    "    \"OCCP_4\": [3000, 3600], # Healthcare Practitioners and Technical\n",
    "    \"OCCP_5\": [3600, 4700], # Service\n",
    "    \"OCCP_6\": [4700, 5000], # Sales\n",
    "    \"OCCP_7\": [5000, 6000], # Office and Administrative Support\n",
    "    \"OCCP_8\": [6000, 6200], # Farming, Fishing, and Forestry\n",
    "    \"OCCP_9\": [6200, 7000], # Construction\n",
    "    \"OCCP_10\": [7000, 7700], # Installation, Maintenance, and Repair\n",
    "    \"OCCP_11\": [7700, 9000], # Production\n",
    "    \"OCCP_12\": [9000, 10000] # Transportation\n",
    "}\n",
    "\n",
    "for k,v in OCCP.items():\n",
    "    df[k] = 0\n",
    "    df.loc[(df[\"OCCP\"]>=v[0])&(df[\"OCCP\"]<v[1]), k] = 1\n",
    "df = df.drop(columns=[\"OCCP\"])"
   ]
  },
  {
   "cell_type": "code",
   "execution_count": 19,
   "id": "2b6d1731",
   "metadata": {},
   "outputs": [],
   "source": [
    "df[\"sex\"] = (df[\"SEX\"]==1).astype(int)\n",
    "df[\"race\"] = (df[\"RAC1P\"]==1).astype(int)\n",
    "\n",
    "df = df.drop(columns=[\"SEX\", \"RAC1P\"])"
   ]
  },
  {
   "cell_type": "code",
   "execution_count": 20,
   "id": "0ac7b222",
   "metadata": {},
   "outputs": [],
   "source": [
    "# Min Max Normalization for Continuous Features \n",
    "\n",
    "df[\"AGEP\"] = (df[\"AGEP\"]-df[\"AGEP\"].min()) / (df[\"AGEP\"].max() - df[\"AGEP\"].min())\n",
    "df[\"WKHP\"] = (df[\"WKHP\"]-df[\"WKHP\"].min()) / (df[\"WKHP\"].max() - df[\"WKHP\"].min())"
   ]
  },
  {
   "cell_type": "code",
   "execution_count": 21,
   "id": "29dc18c5",
   "metadata": {},
   "outputs": [
    {
     "data": {
      "text/html": [
       "<div>\n",
       "<style scoped>\n",
       "    .dataframe tbody tr th:only-of-type {\n",
       "        vertical-align: middle;\n",
       "    }\n",
       "\n",
       "    .dataframe tbody tr th {\n",
       "        vertical-align: top;\n",
       "    }\n",
       "\n",
       "    .dataframe thead th {\n",
       "        text-align: right;\n",
       "    }\n",
       "</style>\n",
       "<table border=\"1\" class=\"dataframe\">\n",
       "  <thead>\n",
       "    <tr style=\"text-align: right;\">\n",
       "      <th></th>\n",
       "      <th>AGEP</th>\n",
       "      <th>WKHP</th>\n",
       "      <th>income</th>\n",
       "      <th>COW_1.0</th>\n",
       "      <th>COW_2.0</th>\n",
       "      <th>COW_3.0</th>\n",
       "      <th>COW_4.0</th>\n",
       "      <th>COW_5.0</th>\n",
       "      <th>COW_6.0</th>\n",
       "      <th>COW_7.0</th>\n",
       "      <th>...</th>\n",
       "      <th>OCCP_5</th>\n",
       "      <th>OCCP_6</th>\n",
       "      <th>OCCP_7</th>\n",
       "      <th>OCCP_8</th>\n",
       "      <th>OCCP_9</th>\n",
       "      <th>OCCP_10</th>\n",
       "      <th>OCCP_11</th>\n",
       "      <th>OCCP_12</th>\n",
       "      <th>sex</th>\n",
       "      <th>race</th>\n",
       "    </tr>\n",
       "  </thead>\n",
       "  <tbody>\n",
       "    <tr>\n",
       "      <th>0</th>\n",
       "      <td>0.126582</td>\n",
       "      <td>0.500000</td>\n",
       "      <td>5200.0</td>\n",
       "      <td>0</td>\n",
       "      <td>1</td>\n",
       "      <td>0</td>\n",
       "      <td>0</td>\n",
       "      <td>0</td>\n",
       "      <td>0</td>\n",
       "      <td>0</td>\n",
       "      <td>...</td>\n",
       "      <td>0</td>\n",
       "      <td>0</td>\n",
       "      <td>1</td>\n",
       "      <td>0</td>\n",
       "      <td>0</td>\n",
       "      <td>0</td>\n",
       "      <td>0</td>\n",
       "      <td>0</td>\n",
       "      <td>0</td>\n",
       "      <td>1</td>\n",
       "    </tr>\n",
       "    <tr>\n",
       "      <th>1</th>\n",
       "      <td>0.063291</td>\n",
       "      <td>0.010204</td>\n",
       "      <td>1000.0</td>\n",
       "      <td>1</td>\n",
       "      <td>0</td>\n",
       "      <td>0</td>\n",
       "      <td>0</td>\n",
       "      <td>0</td>\n",
       "      <td>0</td>\n",
       "      <td>0</td>\n",
       "      <td>...</td>\n",
       "      <td>1</td>\n",
       "      <td>0</td>\n",
       "      <td>0</td>\n",
       "      <td>0</td>\n",
       "      <td>0</td>\n",
       "      <td>0</td>\n",
       "      <td>0</td>\n",
       "      <td>0</td>\n",
       "      <td>1</td>\n",
       "      <td>1</td>\n",
       "    </tr>\n",
       "    <tr>\n",
       "      <th>4</th>\n",
       "      <td>0.037975</td>\n",
       "      <td>0.030612</td>\n",
       "      <td>870.0</td>\n",
       "      <td>1</td>\n",
       "      <td>0</td>\n",
       "      <td>0</td>\n",
       "      <td>0</td>\n",
       "      <td>0</td>\n",
       "      <td>0</td>\n",
       "      <td>0</td>\n",
       "      <td>...</td>\n",
       "      <td>0</td>\n",
       "      <td>0</td>\n",
       "      <td>0</td>\n",
       "      <td>0</td>\n",
       "      <td>0</td>\n",
       "      <td>0</td>\n",
       "      <td>0</td>\n",
       "      <td>0</td>\n",
       "      <td>0</td>\n",
       "      <td>1</td>\n",
       "    </tr>\n",
       "    <tr>\n",
       "      <th>5</th>\n",
       "      <td>0.075949</td>\n",
       "      <td>0.500000</td>\n",
       "      <td>4000.0</td>\n",
       "      <td>1</td>\n",
       "      <td>0</td>\n",
       "      <td>0</td>\n",
       "      <td>0</td>\n",
       "      <td>0</td>\n",
       "      <td>0</td>\n",
       "      <td>0</td>\n",
       "      <td>...</td>\n",
       "      <td>0</td>\n",
       "      <td>0</td>\n",
       "      <td>1</td>\n",
       "      <td>0</td>\n",
       "      <td>0</td>\n",
       "      <td>0</td>\n",
       "      <td>0</td>\n",
       "      <td>0</td>\n",
       "      <td>0</td>\n",
       "      <td>0</td>\n",
       "    </tr>\n",
       "    <tr>\n",
       "      <th>6</th>\n",
       "      <td>0.037975</td>\n",
       "      <td>0.193878</td>\n",
       "      <td>2000.0</td>\n",
       "      <td>0</td>\n",
       "      <td>1</td>\n",
       "      <td>0</td>\n",
       "      <td>0</td>\n",
       "      <td>0</td>\n",
       "      <td>0</td>\n",
       "      <td>0</td>\n",
       "      <td>...</td>\n",
       "      <td>1</td>\n",
       "      <td>0</td>\n",
       "      <td>0</td>\n",
       "      <td>0</td>\n",
       "      <td>0</td>\n",
       "      <td>0</td>\n",
       "      <td>0</td>\n",
       "      <td>0</td>\n",
       "      <td>1</td>\n",
       "      <td>0</td>\n",
       "    </tr>\n",
       "  </tbody>\n",
       "</table>\n",
       "<p>5 rows × 50 columns</p>\n",
       "</div>"
      ],
      "text/plain": [
       "       AGEP      WKHP  income  COW_1.0  COW_2.0  COW_3.0  COW_4.0  COW_5.0  \\\n",
       "0  0.126582  0.500000  5200.0        0        1        0        0        0   \n",
       "1  0.063291  0.010204  1000.0        1        0        0        0        0   \n",
       "4  0.037975  0.030612   870.0        1        0        0        0        0   \n",
       "5  0.075949  0.500000  4000.0        1        0        0        0        0   \n",
       "6  0.037975  0.193878  2000.0        0        1        0        0        0   \n",
       "\n",
       "   COW_6.0  COW_7.0  ...  OCCP_5  OCCP_6  OCCP_7  OCCP_8  OCCP_9  OCCP_10  \\\n",
       "0        0        0  ...       0       0       1       0       0        0   \n",
       "1        0        0  ...       1       0       0       0       0        0   \n",
       "4        0        0  ...       0       0       0       0       0        0   \n",
       "5        0        0  ...       0       0       1       0       0        0   \n",
       "6        0        0  ...       1       0       0       0       0        0   \n",
       "\n",
       "   OCCP_11  OCCP_12  sex  race  \n",
       "0        0        0    0     1  \n",
       "1        0        0    1     1  \n",
       "4        0        0    0     1  \n",
       "5        0        0    0     0  \n",
       "6        0        0    1     0  \n",
       "\n",
       "[5 rows x 50 columns]"
      ]
     },
     "execution_count": 21,
     "metadata": {},
     "output_type": "execute_result"
    }
   ],
   "source": [
    "df.head()"
   ]
  },
  {
   "cell_type": "code",
   "execution_count": 22,
   "id": "859249c5",
   "metadata": {},
   "outputs": [],
   "source": [
    "df.to_csv(output, index=False)"
   ]
  },
  {
   "cell_type": "code",
   "execution_count": 23,
   "id": "63ef102a",
   "metadata": {},
   "outputs": [
    {
     "data": {
      "text/plain": [
       "103756"
      ]
     },
     "execution_count": 23,
     "metadata": {},
     "output_type": "execute_result"
    }
   ],
   "source": [
    "len(df)"
   ]
  },
  {
   "cell_type": "code",
   "execution_count": null,
   "id": "d58a0cea",
   "metadata": {},
   "outputs": [],
   "source": []
  }
 ],
 "metadata": {
  "kernelspec": {
   "display_name": "Python 3 (ipykernel)",
   "language": "python",
   "name": "python3"
  },
  "language_info": {
   "codemirror_mode": {
    "name": "ipython",
    "version": 3
   },
   "file_extension": ".py",
   "mimetype": "text/x-python",
   "name": "python",
   "nbconvert_exporter": "python",
   "pygments_lexer": "ipython3",
   "version": "3.12.2"
  }
 },
 "nbformat": 4,
 "nbformat_minor": 5
}
