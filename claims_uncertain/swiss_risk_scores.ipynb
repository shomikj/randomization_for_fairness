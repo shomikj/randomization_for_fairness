{
 "cells": [
  {
   "cell_type": "code",
   "execution_count": 1,
   "id": "25b233c1-d39b-49be-b959-d65594fc3637",
   "metadata": {},
   "outputs": [],
   "source": [
    "from risk_scores import RiskScores\n",
    "import pandas as pd\n",
    "from sklearn.metrics import roc_auc_score, accuracy_score\n",
    "import numpy as np"
   ]
  },
  {
   "cell_type": "code",
   "execution_count": 2,
   "id": "3cbf3c00-41b7-4232-84cd-04bcd02a6e2e",
   "metadata": {},
   "outputs": [],
   "source": [
    "df = pd.read_csv(\"../../data/swiss_data/swiss_data_clean.csv\")\n",
    "label = \"employed12\"\n",
    "attributes = [\"female\", \"swiss\"]\n",
    "features = [f for f in df.columns if f not in [\"employed12\"]]\n",
    "method = \"log\""
   ]
  },
  {
   "cell_type": "code",
   "execution_count": 3,
   "id": "7f72c0de-ed9f-457e-913b-1b1dddc31d6c",
   "metadata": {},
   "outputs": [
    {
     "name": "stderr",
     "output_type": "stream",
     "text": [
      "100%|███████████████████████████████████████████| 11/11 [00:04<00:00,  2.50it/s]\n",
      "100%|█████████████████████████████████████████████| 5/5 [00:01<00:00,  4.99it/s]\n"
     ]
    },
    {
     "name": "stdout",
     "output_type": "stream",
     "text": [
      "AUC 0.6722280162516651\n",
      "Accuracy 0.6329906124273581\n",
      "\n"
     ]
    },
    {
     "name": "stderr",
     "output_type": "stream",
     "text": [
      "100%|███████████████████████████████████████████| 11/11 [00:04<00:00,  2.33it/s]\n",
      "100%|█████████████████████████████████████████████| 5/5 [00:01<00:00,  4.94it/s]\n"
     ]
    },
    {
     "name": "stdout",
     "output_type": "stream",
     "text": [
      "AUC 0.6653629602074537\n",
      "Accuracy 0.6310747812759435\n",
      "\n"
     ]
    },
    {
     "name": "stderr",
     "output_type": "stream",
     "text": [
      "100%|███████████████████████████████████████████| 11/11 [00:04<00:00,  2.36it/s]\n",
      "100%|█████████████████████████████████████████████| 5/5 [00:01<00:00,  4.92it/s]\n"
     ]
    },
    {
     "name": "stdout",
     "output_type": "stream",
     "text": [
      "AUC 0.670273017055804\n",
      "Accuracy 0.6342678331949677\n",
      "\n"
     ]
    },
    {
     "name": "stderr",
     "output_type": "stream",
     "text": [
      "100%|███████████████████████████████████████████| 11/11 [00:04<00:00,  2.26it/s]\n",
      "100%|█████████████████████████████████████████████| 5/5 [00:01<00:00,  4.80it/s]\n"
     ]
    },
    {
     "name": "stdout",
     "output_type": "stream",
     "text": [
      "AUC 0.6660344709636992\n",
      "Accuracy 0.62928667220129\n",
      "\n"
     ]
    },
    {
     "name": "stderr",
     "output_type": "stream",
     "text": [
      "100%|███████████████████████████████████████████| 11/11 [00:04<00:00,  2.30it/s]\n",
      "100%|█████████████████████████████████████████████| 5/5 [00:01<00:00,  4.86it/s]\n"
     ]
    },
    {
     "name": "stdout",
     "output_type": "stream",
     "text": [
      "AUC 0.6646335322163797\n",
      "Accuracy 0.6267960917044512\n",
      "\n"
     ]
    }
   ],
   "source": [
    "for random_seed in range(5):\n",
    "    rs = RiskScores(df, features, label, attributes, random_seed, method)\n",
    "    results = rs.get_risk_scores()\n",
    "    print(\"AUC\", roc_auc_score(results[\"y\"], results[\"risk\"]))\n",
    "    print(\"Accuracy\", accuracy_score(results[\"y\"], np.round(results[\"risk\"])))\n",
    "    print()\n",
    "    results.to_csv(\"../../data/swiss_results/swiss_\"+method+str(random_seed), index=False)"
   ]
  }
 ],
 "metadata": {
  "kernelspec": {
   "display_name": "Python 3 (ipykernel)",
   "language": "python",
   "name": "python3"
  },
  "language_info": {
   "codemirror_mode": {
    "name": "ipython",
    "version": 3
   },
   "file_extension": ".py",
   "mimetype": "text/x-python",
   "name": "python",
   "nbconvert_exporter": "python",
   "pygments_lexer": "ipython3",
   "version": "3.12.2"
  }
 },
 "nbformat": 4,
 "nbformat_minor": 5
}
