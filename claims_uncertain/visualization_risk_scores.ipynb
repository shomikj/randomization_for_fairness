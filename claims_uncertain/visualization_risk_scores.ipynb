{
 "cells": [
  {
   "cell_type": "code",
   "execution_count": 8,
   "id": "6064f436-9282-44e7-9bf2-6d8af8580658",
   "metadata": {},
   "outputs": [],
   "source": [
    "import pandas as pd\n",
    "import numpy as np\n",
    "from tqdm import tqdm\n",
    "import matplotlib.pyplot as plt\n",
    "import seaborn as sns\n",
    "from scipy import stats\n",
    "from sympy.stats import QuadraticU, density\n",
    "import math\n",
    "from sklearn.metrics import roc_auc_score, accuracy_score"
   ]
  },
  {
   "cell_type": "markdown",
   "id": "b0c72c3a-5929-41fc-bdb8-b87fadc9a619",
   "metadata": {},
   "source": [
    "# Swiss Data"
   ]
  },
  {
   "cell_type": "code",
   "execution_count": 9,
   "id": "3db59a4a-bb58-481a-b02b-98fb8de5e3cb",
   "metadata": {},
   "outputs": [],
   "source": [
    "df = []\n",
    "for m in [\"log\", \"rf\", \"dt\"]:\n",
    "    for i in range(5):\n",
    "        d = pd.read_csv(\"../../data/swiss_results/swiss_\"+m+str(i)+\".csv\")\n",
    "        d[\"model\"] = m\n",
    "        df.append(d)\n",
    "df = pd.concat(df)"
   ]
  },
  {
   "cell_type": "code",
   "execution_count": 10,
   "id": "184589ff-c820-4455-a6a0-08b2da4b2a1c",
   "metadata": {},
   "outputs": [
    {
     "data": {
      "text/html": [
       "<div>\n",
       "<style scoped>\n",
       "    .dataframe tbody tr th:only-of-type {\n",
       "        vertical-align: middle;\n",
       "    }\n",
       "\n",
       "    .dataframe tbody tr th {\n",
       "        vertical-align: top;\n",
       "    }\n",
       "\n",
       "    .dataframe thead th {\n",
       "        text-align: right;\n",
       "    }\n",
       "</style>\n",
       "<table border=\"1\" class=\"dataframe\">\n",
       "  <thead>\n",
       "    <tr style=\"text-align: right;\">\n",
       "      <th></th>\n",
       "      <th>y</th>\n",
       "      <th>female</th>\n",
       "      <th>swiss</th>\n",
       "      <th>risk</th>\n",
       "      <th>risk_b0</th>\n",
       "      <th>risk_b1</th>\n",
       "      <th>risk_b2</th>\n",
       "      <th>risk_b3</th>\n",
       "      <th>risk_b4</th>\n",
       "      <th>risk_b5</th>\n",
       "      <th>risk_b6</th>\n",
       "      <th>risk_b7</th>\n",
       "      <th>risk_b8</th>\n",
       "      <th>risk_b9</th>\n",
       "      <th>risk_b10</th>\n",
       "      <th>outlier_pval</th>\n",
       "      <th>model</th>\n",
       "    </tr>\n",
       "  </thead>\n",
       "  <tbody>\n",
       "    <tr>\n",
       "      <th>0</th>\n",
       "      <td>0</td>\n",
       "      <td>0</td>\n",
       "      <td>1</td>\n",
       "      <td>0.352804</td>\n",
       "      <td>0.355613</td>\n",
       "      <td>0.350650</td>\n",
       "      <td>0.347655</td>\n",
       "      <td>0.356476</td>\n",
       "      <td>0.355933</td>\n",
       "      <td>0.349234</td>\n",
       "      <td>0.356846</td>\n",
       "      <td>0.347407</td>\n",
       "      <td>0.324071</td>\n",
       "      <td>0.353881</td>\n",
       "      <td>0.342808</td>\n",
       "      <td>0.681126</td>\n",
       "      <td>log</td>\n",
       "    </tr>\n",
       "    <tr>\n",
       "      <th>1</th>\n",
       "      <td>0</td>\n",
       "      <td>0</td>\n",
       "      <td>1</td>\n",
       "      <td>0.439512</td>\n",
       "      <td>0.445326</td>\n",
       "      <td>0.444067</td>\n",
       "      <td>0.430911</td>\n",
       "      <td>0.451289</td>\n",
       "      <td>0.439406</td>\n",
       "      <td>0.438055</td>\n",
       "      <td>0.429500</td>\n",
       "      <td>0.436472</td>\n",
       "      <td>0.413004</td>\n",
       "      <td>0.439719</td>\n",
       "      <td>0.437915</td>\n",
       "      <td>0.505035</td>\n",
       "      <td>log</td>\n",
       "    </tr>\n",
       "    <tr>\n",
       "      <th>2</th>\n",
       "      <td>0</td>\n",
       "      <td>0</td>\n",
       "      <td>1</td>\n",
       "      <td>0.667812</td>\n",
       "      <td>0.665633</td>\n",
       "      <td>0.685286</td>\n",
       "      <td>0.660293</td>\n",
       "      <td>0.674106</td>\n",
       "      <td>0.661439</td>\n",
       "      <td>0.696017</td>\n",
       "      <td>0.682662</td>\n",
       "      <td>0.671830</td>\n",
       "      <td>0.666839</td>\n",
       "      <td>0.653868</td>\n",
       "      <td>0.651031</td>\n",
       "      <td>0.715444</td>\n",
       "      <td>log</td>\n",
       "    </tr>\n",
       "    <tr>\n",
       "      <th>3</th>\n",
       "      <td>1</td>\n",
       "      <td>0</td>\n",
       "      <td>0</td>\n",
       "      <td>0.500553</td>\n",
       "      <td>0.504800</td>\n",
       "      <td>0.506539</td>\n",
       "      <td>0.493929</td>\n",
       "      <td>0.497828</td>\n",
       "      <td>0.497001</td>\n",
       "      <td>0.490850</td>\n",
       "      <td>0.496002</td>\n",
       "      <td>0.495222</td>\n",
       "      <td>0.512958</td>\n",
       "      <td>0.489919</td>\n",
       "      <td>0.494287</td>\n",
       "      <td>0.261732</td>\n",
       "      <td>log</td>\n",
       "    </tr>\n",
       "    <tr>\n",
       "      <th>4</th>\n",
       "      <td>1</td>\n",
       "      <td>0</td>\n",
       "      <td>1</td>\n",
       "      <td>0.642582</td>\n",
       "      <td>0.629865</td>\n",
       "      <td>0.651777</td>\n",
       "      <td>0.630726</td>\n",
       "      <td>0.631555</td>\n",
       "      <td>0.633485</td>\n",
       "      <td>0.633078</td>\n",
       "      <td>0.646160</td>\n",
       "      <td>0.643237</td>\n",
       "      <td>0.614935</td>\n",
       "      <td>0.638030</td>\n",
       "      <td>0.641345</td>\n",
       "      <td>0.429611</td>\n",
       "      <td>log</td>\n",
       "    </tr>\n",
       "  </tbody>\n",
       "</table>\n",
       "</div>"
      ],
      "text/plain": [
       "   y  female  swiss      risk   risk_b0   risk_b1   risk_b2   risk_b3  \\\n",
       "0  0       0      1  0.352804  0.355613  0.350650  0.347655  0.356476   \n",
       "1  0       0      1  0.439512  0.445326  0.444067  0.430911  0.451289   \n",
       "2  0       0      1  0.667812  0.665633  0.685286  0.660293  0.674106   \n",
       "3  1       0      0  0.500553  0.504800  0.506539  0.493929  0.497828   \n",
       "4  1       0      1  0.642582  0.629865  0.651777  0.630726  0.631555   \n",
       "\n",
       "    risk_b4   risk_b5   risk_b6   risk_b7   risk_b8   risk_b9  risk_b10  \\\n",
       "0  0.355933  0.349234  0.356846  0.347407  0.324071  0.353881  0.342808   \n",
       "1  0.439406  0.438055  0.429500  0.436472  0.413004  0.439719  0.437915   \n",
       "2  0.661439  0.696017  0.682662  0.671830  0.666839  0.653868  0.651031   \n",
       "3  0.497001  0.490850  0.496002  0.495222  0.512958  0.489919  0.494287   \n",
       "4  0.633485  0.633078  0.646160  0.643237  0.614935  0.638030  0.641345   \n",
       "\n",
       "   outlier_pval model  \n",
       "0      0.681126   log  \n",
       "1      0.505035   log  \n",
       "2      0.715444   log  \n",
       "3      0.261732   log  \n",
       "4      0.429611   log  "
      ]
     },
     "execution_count": 10,
     "metadata": {},
     "output_type": "execute_result"
    }
   ],
   "source": [
    "df.head()"
   ]
  },
  {
   "cell_type": "code",
   "execution_count": 11,
   "id": "4b086c89-b155-4bb1-b960-5032ab8a00da",
   "metadata": {},
   "outputs": [
    {
     "data": {
      "text/plain": [
       "0.4376269238137812"
      ]
     },
     "execution_count": 11,
     "metadata": {},
     "output_type": "execute_result"
    }
   ],
   "source": [
    "df[\"y\"].sum()/len(df)"
   ]
  },
  {
   "cell_type": "code",
   "execution_count": null,
   "id": "b7a075c7-358a-410b-b981-76d096ad06a6",
   "metadata": {},
   "outputs": [],
   "source": []
  },
  {
   "cell_type": "code",
   "execution_count": 12,
   "id": "1b06bb13-a919-4f50-932d-45eada97c65e",
   "metadata": {},
   "outputs": [
    {
     "data": {
      "image/png": "[encoded data removed]",
      "text/plain": [
       "<Figure size 400x300 with 1 Axes>"
      ]
     },
     "metadata": {},
     "output_type": "display_data"
    }
   ],
   "source": [
    "plt.rcParams[\"figure.figsize\"] = [4,3]\n",
    "fig, ax = plt.subplots()\n",
    "\n",
    "sns.kdeplot(df.loc[df[\"model\"]==\"log\", \"risk\"], color=\"#ffa600\", clip=[0,1], label=\"Log. Regression\")\n",
    "sns.kdeplot(df.loc[df[\"model\"]==\"rf\", \"risk\"], color=\"#bc5090\", clip=[0,1], label=\"Random Forest\")\n",
    "sns.kdeplot(df.loc[df[\"model\"]==\"dt\", \"risk\"], bw_adjust=2, color=\"#003f5c\", clip=[0,1], label=\"Decision Tree\")\n",
    "#sns.kdeplot(df[\"risk\"], bw_adjust=2, color=\"k\", clip=[0,1], label=\"All Models\")\n",
    "\n",
    "plt.ylabel(\"Density\")\n",
    "plt.xlabel(\"Predictions ($\\\\,\\\\hat{p}(x_i)\\\\,$)\")\n",
    "\n",
    "plt.xlim([0,1])\n",
    "plt.ylim([0,4])\n",
    "plt.legend(handlelength=1, fontsize=9)\n",
    "fig.tight_layout()\n",
    "plt.savefig('2_swiss_distribution.jpg', format='jpg', dpi=500)\n",
    "plt.show()"
   ]
  },
  {
   "cell_type": "code",
   "execution_count": 13,
   "id": "ed284f7c-8a6c-4c07-851e-fc8ee79b22e2",
   "metadata": {},
   "outputs": [
    {
     "name": "stdout",
     "output_type": "stream",
     "text": [
      "log\n",
      "AUC 0.6676900744526177\n",
      "Accuracy 0.6308831981608021\n",
      "\n",
      "rf\n",
      "AUC 0.678387670315779\n",
      "Accuracy 0.6389680056197714\n",
      "\n",
      "dt\n",
      "AUC 0.6655342856737432\n",
      "Accuracy 0.6290823168784725\n",
      "\n"
     ]
    }
   ],
   "source": [
    "# Accuracy\n",
    "\n",
    "for m in [\"log\", \"rf\", \"dt\"]:\n",
    "    curr = df.loc[df[\"model\"]==m]\n",
    "    print(m)\n",
    "    print(\"AUC\", roc_auc_score(curr[\"y\"], curr[\"risk\"]))\n",
    "    print(\"Accuracy\", accuracy_score(curr[\"y\"], np.round(curr[\"risk\"])))\n",
    "    print()"
   ]
  },
  {
   "cell_type": "code",
   "execution_count": 16,
   "id": "478e5ba2-d569-471f-8beb-0eba0b10705d",
   "metadata": {},
   "outputs": [
    {
     "name": "stdout",
     "output_type": "stream",
     "text": [
      "Male Risk 0.44977\n",
      "Female Risk 0.43096\n",
      "Swiss Risk 0.493\n",
      "Foreign Risk 0.36017\n"
     ]
    }
   ],
   "source": [
    "print(\"Male Risk\", round(np.mean(df.loc[df[\"female\"]==0, \"risk\"]),5))\n",
    "print(\"Female Risk\", round(np.mean(df.loc[df[\"female\"]==1, \"risk\"]),5))\n",
    "print(\"Swiss Risk\", round(np.mean(df.loc[df[\"swiss\"]==1, \"risk\"]),5))\n",
    "print(\"Foreign Risk\", round(np.mean(df.loc[df[\"swiss\"]==0, \"risk\"]),5))"
   ]
  },
  {
   "cell_type": "code",
   "execution_count": 17,
   "id": "7f1cadf4-9548-4ce5-9d83-2122c598c6f0",
   "metadata": {},
   "outputs": [
    {
     "name": "stdout",
     "output_type": "stream",
     "text": [
      "Male P-Value 0.50016\n",
      "Female P-Value 0.49877\n",
      "Swiss P-Value 0.65148\n",
      "Foreign P-Value 0.25953\n"
     ]
    }
   ],
   "source": [
    "print(\"Male P-Value\", round(np.mean(df.loc[df[\"female\"]==0, \"outlier_pval\"]),5))\n",
    "print(\"Female P-Value\", round(np.mean(df.loc[df[\"female\"]==1, \"outlier_pval\"]),5))\n",
    "print(\"Swiss P-Value\", round(np.mean(df.loc[df[\"swiss\"]==1, \"outlier_pval\"]),5))\n",
    "print(\"Foreign P-Value\", round(np.mean(df.loc[df[\"swiss\"]==0, \"outlier_pval\"]),5))"
   ]
  },
  {
   "cell_type": "markdown",
   "id": "6b50f085-8262-480e-bc7f-01338fa94206",
   "metadata": {},
   "source": [
    "# Census Data"
   ]
  },
  {
   "cell_type": "code",
   "execution_count": 13,
   "id": "01b88fcc-500e-4c64-9b14-d2618086180f",
   "metadata": {},
   "outputs": [],
   "source": [
    "df = []\n",
    "for m in [\"log\", \"rf\", \"dt\"]:\n",
    "    for i in range(5):\n",
    "        d = pd.read_csv(\"../../data/census_results/ca_income_\"+m+str(i)+\".csv\")\n",
    "        d[\"model\"] = m\n",
    "        df.append(d)\n",
    "df = pd.concat(df)"
   ]
  },
  {
   "cell_type": "code",
   "execution_count": 14,
   "id": "ab6c5cee-2815-4e84-a678-02d7e29e183f",
   "metadata": {},
   "outputs": [
    {
     "data": {
      "image/png": "[encoded data removed]",
      "text/plain": [
       "<Figure size 400x300 with 1 Axes>"
      ]
     },
     "metadata": {},
     "output_type": "display_data"
    }
   ],
   "source": [
    "plt.rcParams[\"figure.figsize\"] = [4,3]\n",
    "fig, ax = plt.subplots()\n",
    "\n",
    "sns.kdeplot(df.loc[df[\"model\"]==\"log\", \"risk\"], color=\"#ffa600\", clip=[0,1], label=\"Log. Regression\")\n",
    "sns.kdeplot(df.loc[df[\"model\"]==\"rf\", \"risk\"], color=\"#bc5090\", clip=[0,1], label=\"Random Forest\")\n",
    "sns.kdeplot(df.loc[df[\"model\"]==\"dt\", \"risk\"], bw_adjust=2, color=\"#003f5c\", clip=[0,1], label=\"Decision Tree\")\n",
    "#sns.kdeplot(df[\"risk\"], bw_adjust=2, color=\"k\", clip=[0,1], label=\"All Models\")\n",
    "\n",
    "plt.ylabel(\"Density\")\n",
    "plt.xlabel(\"Predictions ($\\\\,\\\\hat{p}(x_i)\\\\,$)\")\n",
    "\n",
    "plt.xlim([0,1])\n",
    "plt.ylim([0,4.5])\n",
    "plt.legend(handlelength=1, fontsize=9)\n",
    "fig.tight_layout()\n",
    "plt.savefig('census_distribution.jpg', format='jpg', dpi=500)\n",
    "plt.show()"
   ]
  },
  {
   "cell_type": "code",
   "execution_count": 30,
   "id": "b7972cdc-603d-41e6-beb8-bb4de30d6bc9",
   "metadata": {},
   "outputs": [
    {
     "name": "stdout",
     "output_type": "stream",
     "text": [
      "log\n",
      "AUC 0.8726753828881737\n",
      "Accuracy 0.7912514941125607\n",
      "\n",
      "rf\n",
      "AUC 0.864874584458256\n",
      "Accuracy 0.7845731288624399\n",
      "\n",
      "dt\n",
      "AUC 0.8288442977025355\n",
      "Accuracy 0.7662165255207142\n",
      "\n"
     ]
    }
   ],
   "source": [
    "# Accuracy\n",
    "\n",
    "for m in [\"log\", \"rf\", \"dt\"]:\n",
    "    curr = df.loc[df[\"model\"]==m]\n",
    "    print(m)\n",
    "    print(\"AUC\", roc_auc_score(curr[\"y\"], curr[\"risk\"]))\n",
    "    print(\"Accuracy\", accuracy_score(curr[\"y\"], np.round(curr[\"risk\"])))\n",
    "    print()"
   ]
  },
  {
   "cell_type": "code",
   "execution_count": 31,
   "id": "574b2883-7cb0-4981-b9d9-e0584dff0b87",
   "metadata": {},
   "outputs": [
    {
     "name": "stdout",
     "output_type": "stream",
     "text": [
      "Male Risk 0.45595\n",
      "Female Risk 0.40981\n",
      "White Risk 0.45382\n",
      "NonWhite Risk 0.40253\n"
     ]
    }
   ],
   "source": [
    "print(\"Male Risk\", round(np.mean(df.loc[df[\"sex\"]==1, \"risk\"]),5))\n",
    "print(\"Female Risk\", round(np.mean(df.loc[df[\"sex\"]==0, \"risk\"]),5))\n",
    "print(\"White Risk\", round(np.mean(df.loc[df[\"race\"]==1, \"risk\"]),5))\n",
    "print(\"NonWhite Risk\", round(np.mean(df.loc[df[\"race\"]==0, \"risk\"]),5))"
   ]
  },
  {
   "cell_type": "code",
   "execution_count": 32,
   "id": "5860b5f6-0ab4-454d-b233-4b862b663dcd",
   "metadata": {},
   "outputs": [
    {
     "name": "stdout",
     "output_type": "stream",
     "text": [
      "Male P-Value 0.50762\n",
      "Female P-Value 0.49116\n",
      "White P-Value 0.53283\n",
      "NonWhite P-Value 0.44661\n"
     ]
    }
   ],
   "source": [
    "print(\"Male P-Value\", round(np.mean(df.loc[df[\"sex\"]==1, \"outlier_pval\"]),5))\n",
    "print(\"Female P-Value\", round(np.mean(df.loc[df[\"sex\"]==0, \"outlier_pval\"]),5))\n",
    "print(\"White P-Value\", round(np.mean(df.loc[df[\"race\"]==1, \"outlier_pval\"]),5))\n",
    "print(\"NonWhite P-Value\", round(np.mean(df.loc[df[\"race\"]==0, \"outlier_pval\"]),5))"
   ]
  },
  {
   "cell_type": "code",
   "execution_count": null,
   "id": "f42d651d-a0f5-4e4e-b930-3c10febf9ce1",
   "metadata": {},
   "outputs": [],
   "source": []
  }
 ],
 "metadata": {
  "kernelspec": {
   "display_name": "Python 3 (ipykernel)",
   "language": "python",
   "name": "python3"
  },
  "language_info": {
   "codemirror_mode": {
    "name": "ipython",
    "version": 3
   },
   "file_extension": ".py",
   "mimetype": "text/x-python",
   "name": "python",
   "nbconvert_exporter": "python",
   "pygments_lexer": "ipython3",
   "version": "3.12.2"
  }
 },
 "nbformat": 4,
 "nbformat_minor": 5
}
