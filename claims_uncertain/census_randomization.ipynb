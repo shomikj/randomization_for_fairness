{
 "cells": [
  {
   "cell_type": "code",
   "execution_count": 1,
   "id": "6e28e4ce-8bed-45d1-8d96-aacaec18d757",
   "metadata": {},
   "outputs": [],
   "source": [
    "import pandas as pd\n",
    "import numpy as np\n",
    "from tqdm import tqdm\n",
    "import matplotlib.pyplot as plt\n",
    "from randomization_proposals import experiment\n",
    "import matplotlib.markers as markers\n",
    "import matplotlib.lines as mlines"
   ]
  },
  {
   "cell_type": "markdown",
   "id": "953f706c-f369-4a0b-95fe-c64f28b3d6b8",
   "metadata": {},
   "source": [
    "### Partial BF (Randomization Near Decision Boundary): Utility Difference"
   ]
  },
  {
   "cell_type": "code",
   "execution_count": null,
   "id": "e0869552-b936-476e-ac64-35af3971d5cf",
   "metadata": {},
   "outputs": [],
   "source": [
    "res = []\n",
    "for m in [\"rf\", \"dt\", \"log\"]:\n",
    "    for i in tqdm(range(5)):\n",
    "        d = pd.read_csv(\"../../data/census_results/ca_income_\"+m+str(i)+\".csv\")\n",
    "        e = experiment(d)\n",
    "        r = e.exp_partial_bf_randomization_rate_utility(selection_rate=0.50, iterations=100)\n",
    "        r[\"m\"] = m\n",
    "        res.append(r)\n",
    "res = pd.concat(res)"
   ]
  },
  {
   "cell_type": "code",
   "execution_count": null,
   "id": "2f0d812c-9a6b-4acf-ae18-35cda19bddef",
   "metadata": {},
   "outputs": [],
   "source": [
    "util_diff = []\n",
    "for perc_random_n in np.linspace(0,1, 11):\n",
    "    inner = []\n",
    "    for perc_random_k in np.linspace(0,1, 11):\n",
    "        if (perc_random_k == 0) and (perc_random_n != 0):\n",
    "            inner.append(np.nan)\n",
    "            continue\n",
    "        elif (perc_random_k == 1) and (perc_random_n != 1):\n",
    "            inner.append(np.nan)\n",
    "            continue\n",
    "\n",
    "        val = res.loc[(res[\"perc_random_k\"]==perc_random_k)&(res[\"perc_random_n\"]==perc_random_n), \"random_util\"].to_numpy()\n",
    "        if len(val)>0:\n",
    "            inner.append(np.abs(val[0]))\n",
    "        else:\n",
    "            inner.append(np.nan)\n",
    "    util_diff.append(inner)\n",
    "\n",
    "plt.rcParams[\"figure.figsize\"] = [5, 4]\n",
    "fig, ax = plt.subplots()\n",
    "\n",
    "plt.imshow(util_diff, cmap='Greens', vmin=0.60, vmax=0.95, interpolation='nearest')\n",
    "\n",
    "ax.set_xticks([0, 1, 2, 3, 4, 5, 6, 7, 8, 9, 10], labels=[0, 0.1, 0.2, 0.3, 0.4, 0.5, 0.6, 0.7, 0.8, 0.9, 1.0])\n",
    "ax.set_yticks([0, 1, 2, 3, 4, 5, 6, 7, 8, 9, 10], labels=[0, 0.1, 0.2, 0.3, 0.4, 0.5, 0.6, 0.7, 0.8, 0.9, 1.0])\n",
    "ax.set_xlabel('Randomization Rate: $k\\'\\\\,$/$\\\\;k$')\n",
    "ax.set_ylabel('Randomization Rate: $n\\'\\\\,$/$\\\\;n$')\n",
    "\n",
    "for (j,i),label in np.ndenumerate(util_diff):\n",
    "    if pd.notna(label):        \n",
    "        ax.text(i,j,\"{:.2f}\".format(label)[1:],ha='center',va='center')\n",
    "\n",
    "\n",
    "ax.set_facecolor('w')\n",
    "plt.tight_layout()\n",
    "plt.savefig('census_partial_bf_5.jpg', format='jpg', dpi=500)\n",
    "plt.show()"
   ]
  },
  {
   "cell_type": "markdown",
   "id": "8d9559c3-e5ab-466a-8bbe-380478799db3",
   "metadata": {},
   "source": [
    "### Randomization Proposals: Utility"
   ]
  },
  {
   "cell_type": "code",
   "execution_count": null,
   "id": "14386eb4-c467-4d51-9c5c-2302d9d7c6fd",
   "metadata": {},
   "outputs": [],
   "source": [
    "res = []\n",
    "for m in tqdm([\"rf\", \"dt\", \"log\"]):\n",
    "    for i in range(5):\n",
    "        d = pd.read_csv(\"../../data/census_results/ca_income_\"+m+str(i)+\".csv\")\n",
    "        e = experiment(d)\n",
    "        r = e.exp_randomization_using_variance(selection_rate=0.50, iterations=100)\n",
    "        r[\"m\"] = m\n",
    "        res.append(r)\n",
    "res = pd.concat(res)\n",
    "\n",
    "for m in [\"log\", \"rf\", \"dt\"]:\n",
    "    print(m)\n",
    "    temp = (res.loc[res[\"m\"]==m].drop(columns=[\"m\"])*100).mean().round(1)\n",
    "    \n",
    "    print(str(temp[\"perc_random_k\"])+\"\\\\% &\",\n",
    "          str(temp[\"perc_random_n\"])+\"\\\\% &\",\n",
    "          str(temp[\"random_util\"])+\"\\\\% &\",\n",
    "          str(temp[\"partial_bf_util\"])+\"\\\\% &\",\n",
    "          str(temp[\"determ_util\"])+\"\\\\%\")\n",
    "    print()\n",
    "    print()"
   ]
  },
  {
   "cell_type": "code",
   "execution_count": null,
   "id": "10cde757-dee4-4f67-a4e8-ff723563ea95",
   "metadata": {},
   "outputs": [],
   "source": [
    "res = []\n",
    "for m in tqdm([\"rf\", \"dt\", \"log\"]):\n",
    "    for i in range(5):\n",
    "        d = pd.read_csv(\"../../data/census_results/ca_income_\"+m+str(i)+\".csv\")\n",
    "        e = experiment(d)\n",
    "        r = e.exp_randomization_using_outliers(selection_rate=0.25, alpha=0.20, iterations=100)\n",
    "        r[\"m\"] = m\n",
    "        res.append(r)\n",
    "res = pd.concat(res)\n",
    "\n",
    "for m in [\"log\", \"rf\", \"dt\"]:\n",
    "    print(m)\n",
    "    temp = (res.loc[res[\"m\"]==m].drop(columns=[\"m\"])*100).mean().round(1)\n",
    "    \n",
    "    print(str(temp[\"perc_random_k\"])+\"\\\\% &\",\n",
    "          str(temp[\"perc_random_n\"])+\"\\\\% &\",\n",
    "          str(temp[\"random_util\"])+\"\\\\% &\",\n",
    "          str(temp[\"partial_bf_util\"])+\"\\\\% &\",\n",
    "          str(temp[\"determ_util\"])+\"\\\\%\")\n",
    "    print()\n",
    "    print()"
   ]
  },
  {
   "cell_type": "markdown",
   "id": "3f7159cc-64c2-4597-920b-2781f6dc7bf0",
   "metadata": {},
   "source": [
    "### Randomization Proposals: SER"
   ]
  },
  {
   "cell_type": "code",
   "execution_count": 2,
   "id": "bbc68327-d566-49b9-b112-42b1b15777b7",
   "metadata": {},
   "outputs": [],
   "source": [
    "def get_proposal_ser(model, sr, noise, method, conformal_alpha=None):\n",
    "    res = []\n",
    "    for i in tqdm(range(5)):\n",
    "        d = pd.read_csv(\"../../data/census_results/ca_income_\"+model+str(i)+\".csv\")\n",
    "        e = experiment(d)\n",
    "        r = e.exp_systemic_exclusion(selection_rate=sr, noise_std=noise, num_decision_makers=4, iterations=100,\n",
    "                                    randomization_method=method, alpha=conformal_alpha, perc_random_n=None, perc_random_k=None)\n",
    "        res.append(r)\n",
    "    res = pd.concat(res)\n",
    "    res = res.groupby(\"m\").mean().reset_index()\n",
    "    return res[\"random_ser\"].to_numpy()\n",
    "\n",
    "def get_proposal_utility(model, sr, method, conformal_alpha=None):\n",
    "    res = []\n",
    "    for i in tqdm(range(5)):\n",
    "        d = pd.read_csv(\"../../data/census_results/ca_income_\"+model+str(i)+\".csv\")\n",
    "        e = experiment(d)\n",
    "        if method==\"variance\":\n",
    "            r = e.exp_randomization_using_variance(selection_rate=SR, iterations=100)\n",
    "        else:\n",
    "            r = e.exp_randomization_using_outliers(selection_rate=SR, alpha=conformal_alpha, iterations=100)\n",
    "        res.append(np.mean(r[\"random_util\"]))\n",
    "    return np.mean(res)\n",
    "\n",
    "def get_partial_ser(model, sr, noise):\n",
    "    res_ser = []\n",
    "    for i in tqdm(range(5)):\n",
    "        d = pd.read_csv(\"../../data/census_results/ca_income_\"+model+str(i)+\".csv\")\n",
    "        e = experiment(d)\n",
    "        res_utility = e.exp_partial_bf_randomization_rate_utility(selection_rate=sr, iterations=5, linspace=21)\n",
    "        rs = e.exp_partial_bf_randomization_rate_ser(selection_rate=sr, noise_std=noise, num_decision_makers=4, iterations=5, linspace=21)\n",
    "        rs = rs.merge(res_utility, on=[\"perc_random_k\", \"perc_random_n\"], how=\"left\")\n",
    "        rs = rs.groupby([\"m\", \"perc_random_k\", \"perc_random_n\"]).mean().reset_index()\n",
    "        #rs[\"random_ser\"] = rs[\"random_ser\"].round(2)\n",
    "        #rs[\"random_util\"] = rs[\"random_util\"].round(2)\n",
    "        #rs = rs.groupby([\"m\", \"random_util\"]).min().reset_index()\n",
    "        res_ser.append(rs)\n",
    "    res_ser = pd.concat(res_ser)\n",
    "    res_ser = res_ser.groupby([\"m\", \"perc_random_k\", \"perc_random_n\"]).mean().reset_index()\n",
    "    return res_ser"
   ]
  },
  {
   "cell_type": "code",
   "execution_count": 11,
   "id": "4ffc2d8b-ba10-4faf-b44c-1f8d712a57c3",
   "metadata": {},
   "outputs": [],
   "source": [
    "SR = 0.50\n",
    "CONFORMAL_ALPHA = 0.10\n",
    "NOISE = 0\n",
    "\n",
    "def fit_curve(raw_x, raw_y):\n",
    "    model = np.polyfit(raw_x, raw_y, deg=2)\n",
    "    x = np.linspace((1-SR)**5, (1-SR), 100)\n",
    "    y = model[0]*(x**2) + model[1]*(x) + model[2]\n",
    "    return x,y"
   ]
  },
  {
   "cell_type": "code",
   "execution_count": 12,
   "id": "fd014f2c-f032-4c8d-af30-2991f2e54359",
   "metadata": {},
   "outputs": [
    {
     "name": "stderr",
     "output_type": "stream",
     "text": [
      "100%|█████████████████████████████████████████████| 5/5 [05:50<00:00, 70.15s/it]\n",
      "100%|█████████████████████████████████████████████| 5/5 [05:41<00:00, 68.30s/it]\n",
      "100%|█████████████████████████████████████████████| 5/5 [05:19<00:00, 63.97s/it]\n"
     ]
    }
   ],
   "source": [
    "res_ser = {}\n",
    "for m in [\"log\", \"rf\", \"dt\"]:\n",
    "    res_ser[m] = get_partial_ser(m, SR, NOISE)\n",
    "    res_ser[m][\"random_ser\"] = res_ser[m][\"random_ser\"].round(3)\n",
    "    res_ser[m][\"random_util\"] = res_ser[m][\"random_util\"].round(3)\n",
    "    res_ser[m] = res_ser[m].groupby([\"m\", \"random_util\"]).min().reset_index()"
   ]
  },
  {
   "cell_type": "code",
   "execution_count": 13,
   "id": "e11b3208-9cd0-4a6a-bfd2-703c4e2c563f",
   "metadata": {},
   "outputs": [
    {
     "name": "stderr",
     "output_type": "stream",
     "text": [
      "100%|█████████████████████████████████████████████| 5/5 [00:03<00:00,  1.50it/s]\n",
      "100%|█████████████████████████████████████████████| 5/5 [00:25<00:00,  5.04s/it]\n",
      "100%|█████████████████████████████████████████████| 5/5 [00:11<00:00,  2.31s/it]\n",
      "100%|█████████████████████████████████████████████| 5/5 [00:28<00:00,  5.62s/it]\n",
      "100%|█████████████████████████████████████████████| 5/5 [00:17<00:00,  3.43s/it]\n",
      "100%|█████████████████████████████████████████████| 5/5 [00:28<00:00,  5.74s/it]\n"
     ]
    }
   ],
   "source": [
    "variance_utility = {}\n",
    "variance_ser = {}\n",
    "for m in [\"log\", \"rf\", \"dt\"]:\n",
    "    variance_utility[m] = get_proposal_utility(model=m, sr=SR, method=\"variance\", conformal_alpha=None)\n",
    "    variance_ser[m] = get_proposal_ser(model=m, sr=SR, noise=NOISE, method=\"variance\", conformal_alpha=None)"
   ]
  },
  {
   "cell_type": "code",
   "execution_count": 14,
   "id": "31d51eb9-b03c-42c8-8c8a-626bb510746f",
   "metadata": {},
   "outputs": [
    {
     "name": "stderr",
     "output_type": "stream",
     "text": [
      "100%|█████████████████████████████████████████████| 5/5 [00:04<00:00,  1.11it/s]\n",
      "100%|█████████████████████████████████████████████| 5/5 [00:22<00:00,  4.55s/it]\n",
      "100%|█████████████████████████████████████████████| 5/5 [00:04<00:00,  1.09it/s]\n",
      "100%|█████████████████████████████████████████████| 5/5 [00:22<00:00,  4.46s/it]\n",
      "100%|█████████████████████████████████████████████| 5/5 [00:04<00:00,  1.03it/s]\n",
      "100%|█████████████████████████████████████████████| 5/5 [00:20<00:00,  4.08s/it]\n"
     ]
    }
   ],
   "source": [
    "outliers_utility = {}\n",
    "outliers_ser = {}\n",
    "for m in [\"log\", \"rf\", \"dt\"]:\n",
    "    outliers_utility[m] = get_proposal_utility(model=m, sr=SR, method=\"outliers\", conformal_alpha=CONFORMAL_ALPHA)\n",
    "    outliers_ser[m] = get_proposal_ser(model=m, sr=SR, noise=NOISE, method=\"outliers\", conformal_alpha=CONFORMAL_ALPHA)"
   ]
  },
  {
   "cell_type": "code",
   "execution_count": 19,
   "id": "09887ba4-a03f-4554-936e-21d8bba5a2d0",
   "metadata": {},
   "outputs": [
    {
     "data": {
      "image/png": "[encoded data removed]",
      "text/plain": [
       "<Figure size 400x300 with 1 Axes>"
      ]
     },
     "metadata": {},
     "output_type": "display_data"
    }
   ],
   "source": [
    "plt.rcParams[\"figure.figsize\"] = [4,3]\n",
    "fig, ax = plt.subplots()\n",
    "\n",
    "colors = {\n",
    "    \"log\": {2: \"#ffa600\", 3: \"#ffa600\", 4: \"#ffa600\"},\n",
    "    \"rf\": {2: \"#bc5090\", 3: \"#bc5090\", 4: \"#bc5090\"},\n",
    "    \"dt\": {2: \"#003f5c\", 3: \"#003f5c\", 4: \"#003f5c\"}\n",
    "}\n",
    "\n",
    "linestyle = {2: \"dotted\", 3: \"dashed\", 4: \"solid\"}\n",
    "\n",
    "for model in [\"log\", \"rf\", \"dt\"]:\n",
    "    for dm in [2, 3, 4]:\n",
    "        x,y = fit_curve(res_ser[model].loc[res_ser[model][\"m\"]==dm, \"random_ser\"], res_ser[model].loc[res_ser[model][\"m\"]==dm, \"random_util\"])\n",
    "        #plt.plot(res_ser[model].loc[res_ser[model][\"m\"]==dm, \"random_ser\"], res_ser[model].loc[res_ser[model][\"m\"]==dm, \"random_util\"], color=colors[model][dm], linestyle=linestyle[dm])\n",
    "        if dm == 4 and model == \"dt\":\n",
    "            plt.plot(x, y, color=colors[model][dm], linestyle=linestyle[dm], label=\"Decision-\\nBoundary\")\n",
    "        else:\n",
    "            plt.plot(x, y, color=colors[model][dm], linestyle=linestyle[dm])\n",
    "\n",
    "\n",
    "for model in [\"log\", \"rf\", \"dt\"]:\n",
    "    for i,dm in enumerate([2, 3, 4]):\n",
    "        if dm == 4 and model == \"dt\":\n",
    "            plt.plot(variance_ser[model][i], variance_utility[model], marker=\"x\", color=colors[model][dm], markeredgewidth=2.5, linestyle='None', label=\"Variance\")\n",
    "        else:\n",
    "            plt.plot(variance_ser[model][i], variance_utility[model], marker=\"x\", color=colors[model][dm], markeredgewidth=2.5)\n",
    "\n",
    "for model in [\"log\", \"rf\", \"dt\"]:\n",
    "    for i,dm in enumerate([2, 3, 4]):\n",
    "        if dm == 4 and model == \"dt\":\n",
    "            plt.plot(outliers_ser[model][i], outliers_utility[model], marker=\"o\", color=colors[model][dm], markeredgewidth=2.5, linestyle='None', label=\"Outliers\")\n",
    "        else:\n",
    "            plt.plot(outliers_ser[model][i], outliers_utility[model], marker=\"o\", color=colors[model][dm], markeredgewidth=2.5)\n",
    "\n",
    "\n",
    "first_legend = plt.legend(loc=\"lower center\", handlelength=1, fontsize=8.75)\n",
    "\n",
    "\n",
    "#plt.plot(0.65, 0.63, marker=\"x\", color=\"#003f5c\", markeredgewidth=2.5)\n",
    "#plt.plot(0.65, 0.6, marker=\"o\", color=\"#003f5c\", markeredgewidth=2.5)\n",
    "\n",
    "plt.ylim([0.5, 0.75])\n",
    "plt.xlim([0.25, 0.5])\n",
    "\n",
    "blue_line = mlines.Line2D([], [], color=\"#003f5c\", linestyle=\"dotted\", label=\"2\")\n",
    "blue_line2 = mlines.Line2D([], [],  color=\"#003f5c\", linestyle=\"dashed\", label=\"3\")\n",
    "blue_line3 = mlines.Line2D([], [],  color=\"#003f5c\", linestyle=\"solid\", label=\"4\")\n",
    "\n",
    "second_legend = plt.legend(handles=[blue_line, blue_line2, blue_line3], title=\"m\", loc=\"lower right\", fontsize=8.75)\n",
    "\n",
    "ax = plt.gca().add_artist(first_legend)\n",
    "ax = plt.gca().add_artist(second_legend)\n",
    "\n",
    "blue_line = mlines.Line2D([], [], color=\"#ffa600\", linestyle=\"solid\", label=\"LR\")\n",
    "blue_line2 = mlines.Line2D([], [],  color=\"#bc5090\", linestyle=\"solid\", label=\"RF\")\n",
    "blue_line3 = mlines.Line2D([], [],  color=\"#003f5c\", linestyle=\"solid\", label=\"DT\")\n",
    "\n",
    "plt.legend(loc=\"lower left\", handles=[blue_line, blue_line2, blue_line3], title=\"Model\", fontsize=8.75)\n",
    "\n",
    "plt.xlabel(\"Systemic Exclusion Rate ($m$ decision-makers)\")\n",
    "plt.ylabel(\"Utility\")\n",
    "\n",
    "plt.grid()\n",
    "plt.tight_layout()\n",
    "plt.savefig('census_utility_ser_5.jpg', format='jpg', dpi=500)\n",
    "plt.show()"
   ]
  }
 ],
 "metadata": {
  "kernelspec": {
   "display_name": "Python 3 (ipykernel)",
   "language": "python",
   "name": "python3"
  },
  "language_info": {
   "codemirror_mode": {
    "name": "ipython",
    "version": 3
   },
   "file_extension": ".py",
   "mimetype": "text/x-python",
   "name": "python",
   "nbconvert_exporter": "python",
   "pygments_lexer": "ipython3",
   "version": "3.12.2"
  }
 },
 "nbformat": 4,
 "nbformat_minor": 5
}
